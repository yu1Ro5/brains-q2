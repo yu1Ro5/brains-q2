{
 "metadata": {
  "language_info": {
   "codemirror_mode": {
    "name": "ipython",
    "version": 3
   },
   "file_extension": ".py",
   "mimetype": "text/x-python",
   "name": "python",
   "nbconvert_exporter": "python",
   "pygments_lexer": "ipython3",
   "version": "3.7.4-final"
  },
  "orig_nbformat": 2,
  "kernelspec": {
   "name": "python3",
   "display_name": "Python 3.7.4 64-bit ('brains': conda)",
   "metadata": {
    "interpreter": {
     "hash": "4565ae082876a9d633017d06303c2987a87cd9382ec277a48f7eeebddf99ee80"
    }
   }
  }
 },
 "nbformat": 4,
 "nbformat_minor": 2,
 "cells": [
  {
   "cell_type": "code",
   "execution_count": 1,
   "metadata": {},
   "outputs": [
    {
     "output_type": "stream",
     "name": "stderr",
     "text": [
      "100%|██████████| 6179/6179 [00:07<00:00, 816.83it/s]\n"
     ]
    },
    {
     "output_type": "execute_result",
     "data": {
      "text/plain": [
       "Index(['MolLogP', 'PEOE_VSA6', 'MaxAbsPartialCharge', 'MinPartialCharge',\n",
       "       'MaxPartialCharge', 'BalabanJ', 'fr_Al_COO', 'HallKierAlpha',\n",
       "       'MinEStateIndex', 'MaxEStateIndex',\n",
       "       ...\n",
       "       'MACCS_157', 'MACCS_158', 'MACCS_159', 'MACCS_160', 'MACCS_161',\n",
       "       'MACCS_162', 'MACCS_163', 'MACCS_164', 'MACCS_165', 'MACCS_166'],\n",
       "      dtype='object', length=291)"
      ]
     },
     "metadata": {},
     "execution_count": 1
    }
   ],
   "source": [
    "import pandas as pd\n",
    "from src import util\n",
    "df = pd.read_csv(\"datasets/dataset.csv\")\n",
    "X,y=util.prepare_data(df)\n",
    "X.columns"
   ]
  },
  {
   "cell_type": "code",
   "execution_count": null,
   "metadata": {},
   "outputs": [],
   "source": []
  }
 ]
}